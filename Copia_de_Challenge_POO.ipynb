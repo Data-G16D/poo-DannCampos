{
  "nbformat": 4,
  "nbformat_minor": 0,
  "metadata": {
    "colab": {
      "name": "Copia de Challenge POO.ipynb",
      "provenance": [],
      "collapsed_sections": []
    },
    "kernelspec": {
      "name": "python3",
      "display_name": "Python 3"
    },
    "language_info": {
      "name": "python"
    }
  },
  "cells": [
    {
      "cell_type": "markdown",
      "source": [
        "##Ejercicio 1\n",
        "Realizar un programa que conste de una clase llamada Alumno que tenga como atributos el nombre y la nota del alumno. Definir los métodos para inicializar sus atributos, imprimirlos y mostrar un mensaje con el resultado de la nota y si ha aprobado o no.\n"
      ],
      "metadata": {
        "id": "4EFGoEpOl5J9"
      }
    },
    {
      "cell_type": "code",
      "source": [
        "class Alumno: \n",
        "  def __init__(self,nombre,nota=0):\n",
        "    self.nombre=nombre\n",
        "    self.nota=nota\n",
        "\n",
        "  def Evaluacion(self):\n",
        "    if self.nota >= 6:\n",
        "      print(f'Su calificacion: {self.nota} es aprobatoria' )\n",
        "    else:\n",
        "      print(f'Su calificacion: {self.nota} no es aprobatoria' )\n",
        "\n",
        "A1 = Alumno('Santiago',10)\n",
        "\n",
        "print(A1.nombre)\n",
        "A1.Evaluacion()"
      ],
      "metadata": {
        "id": "P9ullKnYnFfF",
        "colab": {
          "base_uri": "https://localhost:8080/"
        },
        "outputId": "3baa5103-cd1b-4dca-b374-d0a8c143c868"
      },
      "execution_count": 1,
      "outputs": [
        {
          "output_type": "stream",
          "name": "stdout",
          "text": [
            "Santiago\n",
            "Su calificacion: 10 es aprobatoria\n"
          ]
        }
      ]
    },
    {
      "cell_type": "markdown",
      "source": [
        "##Ejercicio 2\n",
        "Realizar un programa que tenga una clase Persona con las siguientes características. La clase tendrá como atributos el nombre y la edad de una persona. Implementar los métodos necesarios para inicializar los atributos, mostrar los datos e indicar si la persona es mayor de edad o no.\n"
      ],
      "metadata": {
        "id": "b_bGLJVvmDb5"
      }
    },
    {
      "cell_type": "code",
      "source": [
        "class Persona:\n",
        "  def __init__(self,nombre,edad=0):\n",
        "    self.nombre=nombre\n",
        "    self.edad=edad\n",
        "\n",
        "  def mayorEdad(self):\n",
        "    if self.edad >= 18:\n",
        "      print(f'Tu edad es: {self.edad} por lo tanto eres mayor de edad' )\n",
        "    else:\n",
        "      print(f'Tu edad es: {self.edad} por lo tanto no eres mayor de edad' )\n",
        "\n",
        "P1 = Persona('Mali',23)\n",
        "P2 = Persona('Miguel',12)\n",
        "\n",
        "print(P1.nombre)\n",
        "P1.mayorEdad()\n",
        "print(P2.nombre)\n",
        "P2.mayorEdad()"
      ],
      "metadata": {
        "id": "t_Kbaj2EnF9N",
        "colab": {
          "base_uri": "https://localhost:8080/"
        },
        "outputId": "90a89341-c0a5-4d92-f277-fb11ab8695d4"
      },
      "execution_count": 2,
      "outputs": [
        {
          "output_type": "stream",
          "name": "stdout",
          "text": [
            "Mali\n",
            "Tu edad es: 23 por lo tanto eres mayor de edad\n",
            "Miguel\n",
            "Tu edad es: 12 por lo tanto no eres mayor de edad\n"
          ]
        }
      ]
    },
    {
      "cell_type": "markdown",
      "source": [
        "##Ejercicio 3\n",
        "Desarrollar un programa que cargue los datos de un triángulo. Implementar una clase con los métodos para inicializar los atributos, imprimir el valor del lado con un tamaño mayor y  el tipo de triángulo que es (equilátero, isósceles o escaleno).\n"
      ],
      "metadata": {
        "id": "Esf21Be0mTBn"
      }
    },
    {
      "cell_type": "code",
      "source": [
        "class Triangulo:\n",
        "  def __init__(self, l1=0, l2=0, l3=0):\n",
        "    #float(input(self.l1))=l1\n",
        "    #float(input(self.l2))=l2\n",
        "    #float(input(self.l3))=l3\n",
        "    self.l1=float(input('Ingresa la medida del primer lado:'))\n",
        "    self.l2=float(input('Ingresa la medida del segundo lado:'))\n",
        "    self.l3=float(input('Ingresa la medida del tercer lado:'))\n",
        "\n",
        "  def tipoT(self):\n",
        "    if self.l1 == self.l2 == self.l3:\n",
        "      print(f'Tu triángulo de medidad {self.l1}, {self.l2}, {self.l3}, es equilatero')\n",
        "    elif self.l1 == self.l2 != self.l3:\n",
        "      print(f'Tu triángulo de medidad {self.l1}, {self.l2}, {self.l3}, es isoceles')\n",
        "    else:\n",
        "      print(f'Tu triángulo de medidad {self.l1}, {self.l2}, {self.l3}, es escaleno')\n",
        "\n",
        "trian1 =Triangulo()\n",
        "trian1.tipoT()\n",
        "\n"
      ],
      "metadata": {
        "id": "sPqi1jqCnGfD",
        "colab": {
          "base_uri": "https://localhost:8080/"
        },
        "outputId": "a9f04ca0-b1b1-41e8-d57e-150ee572f4c9"
      },
      "execution_count": 4,
      "outputs": [
        {
          "output_type": "stream",
          "name": "stdout",
          "text": [
            "Ingresa la medida del primer lado:3\n",
            "Ingresa la medida del segundo lado:2\n",
            "Ingresa la medida del tercer lado:1\n",
            "Tu triángulo de medidad 3.0, 2.0, 1.0, es escaleno\n"
          ]
        }
      ]
    },
    {
      "cell_type": "markdown",
      "source": [
        "##Ejercicio 4\n",
        "Realizar un programa en el cual se declaren dos valores enteros por teclado utilizando el método __init__. Calcular después la suma, resta, multiplicación y división. Utilizar un método para cada una e imprimir los resultados obtenidos. Llamar a la clase Calculadora."
      ],
      "metadata": {
        "id": "FuDVAwyLmXM_"
      }
    },
    {
      "cell_type": "code",
      "source": [
        "class Calculadora:\n",
        "\t\n",
        "\tdef __init__(self):\n",
        "\t\tself.v1=int(input(\"Ingrese el primer valor: \"))\n",
        "\t\tself.v2=int(input(\"Ingrese el segundo valor: \"))\n",
        "\n",
        "\tdef suma(self):\n",
        "\t\tsuma=self.v1+self.v2\n",
        "\t\tprint(\"El resultado de su suma es: \",suma)\n",
        " \n",
        "\tdef resta(self):\n",
        "\t\tresta=self.v1-self.v2\n",
        "\t\tprint(\"El resultado de su resta es: \",resta)\n",
        " \n",
        "\tdef multiplicacion(self):\n",
        "\t\tpro=self.v1*self.v2\n",
        "\t\tprint(\"El resultado de su multiplicación es: \",pro)\n",
        "\n",
        "\tdef division(self):\n",
        "\t\tdiv=self.v1/self.v2\n",
        "\t\tprint(\"El resultado de su división es: \",div)\n",
        "\n",
        "\tdef imprimir(self):\n",
        "\t\tprint(\"Los valores que usted ingreso son: \")\n",
        "\t\tprint(\"Valor 1: \",self.v1)\n",
        "\t\tprint(\"Valor 2: \",self.v2)\n",
        "\n",
        "calcular=Calculadora()\n",
        "calcular.imprimir()\n",
        "calcular.suma()\n",
        "calcular.resta()\n",
        "calcular.multiplicacion()\n",
        "calcular.division()"
      ],
      "metadata": {
        "id": "VnFcFidTnG-O",
        "colab": {
          "base_uri": "https://localhost:8080/"
        },
        "outputId": "3fdb6ec8-3fe6-4179-b286-56e84d0a01c0"
      },
      "execution_count": 13,
      "outputs": [
        {
          "output_type": "stream",
          "name": "stdout",
          "text": [
            "Ingrese el primer valor: 8\n",
            "Ingrese el segundo valor: 4\n",
            "Los valores que usted ingreso son: \n",
            "Valor 1:  8\n",
            "Valor 2:  4\n",
            "El resultado de su suma es:  12\n",
            "El resultado de su resta es:  4\n",
            "El resultado de su multiplicación es:  32\n",
            "El resultado de su división es:  2.0\n"
          ]
        }
      ]
    },
    {
      "cell_type": "markdown",
      "source": [
        "##Ejercicio 5\n",
        "Realizar una clase que administre una agenda. Se debe almacenar para cada contacto el nombre, el teléfono y el email. Además deberá mostrar un menú con las siguientes opciones\n",
        "\n",
        "\n",
        "\n",
        "*   Añadir contacto\n",
        "*   Lista de contactos\n",
        "*   Buscar contacto\n",
        "*   Editar contacto\n",
        "*   Cerrar agenda"
      ],
      "metadata": {
        "id": "NmarrIA6mdo5"
      }
    },
    {
      "cell_type": "code",
      "source": [
        "class Agenda:\n",
        "\t\n",
        "\tdef __init__(self):\n",
        "\t\tself.contactos=[]\n",
        " \n",
        "\tdef menu(self):\n",
        "\t\tprint()\n",
        "\t\tmenu=[\n",
        "\t\t\t['Agenda Personal'],\n",
        "\t\t\t['1. Añadir Contacto',\"anadir\"],\n",
        "\t\t\t['2. Lista de contactos'],\n",
        "\t\t\t['3. Buscar contacto'],\n",
        "\t\t\t['4. Editar contacto'],\n",
        "\t\t\t['5. Cerrar agenda']\n",
        "\t\t]\n",
        " \n",
        "\t\tfor i in range(6):\n",
        "\t\t\tprint(menu[i][0])\n",
        " \n",
        "\t\topcion=int(input(\"Seleccione la opción que desea efecutar: \"))\n",
        "\t\tif opcion==1:\n",
        "\t\t\tself.anadir()\n",
        "\t\telif opcion==2:\n",
        "\t\t\tself.lista()\n",
        "\t\telif opcion==3:\n",
        "\t\t\tself.buscar()\n",
        "\t\telif opcion==4:\n",
        "\t\t\tself.editar()\n",
        "\t\telif opcion==5:\n",
        "\t\t\tprint(\"Usted está saliendo de la agenda ...\")\n",
        "\t\t\texit()\n",
        "\n",
        "\t\tself.menu()\n",
        " \n",
        "\tdef anadir(self):\n",
        "\t\tprint(\"---------------------\")\n",
        "\t\tprint(\"Agregar nuevo contacto:\")\n",
        "\t\tprint(\"---------------------\")\n",
        "\t\tnom=input(\"Ingrese el nombre del contacto: \")\n",
        "\t\ttel=int(input(\"Ingrese el número de teléfono: \"))\n",
        "\t\te_mail=input(\"Ingrese el e-mail: \")\n",
        "\t\tself.contactos.append({'nombre':nom,'telf':tel,'email':e_mail})\n",
        "\t\t\n",
        "\tdef lista(self):\n",
        "\t\tprint(\"------------------\")\n",
        "\t\tprint(\"Lista de contactos:\")\n",
        "\t\tprint(\"------------------\")\n",
        "\t\tif len(self.contactos) == 0:\n",
        "\t\t\tprint(\"No hay ningún contacto en la agenda\")\n",
        "\t\telse:\n",
        "\t\t\tfor i in range(len(self.contactos)):\n",
        "\t\t\t\tprint(self.contactos[i]['nombre'])\n",
        "\t\t\n",
        "\tdef buscar(self):\n",
        "\t\tprint(\"---------------------\")\n",
        "\t\tprint(\"Buscador de contactos:\")\n",
        "\t\tprint(\"---------------------\")\n",
        "\t\tnom=input(\"Introduzca el nombre del contacto: \")\n",
        "\t\tfor i in range(len(self.contactos)):\n",
        "\t\t\tif nom == self.contactos[i]['nombre']:\n",
        "\t\t\t\tprint(\"Datos del contacto\")\n",
        "\t\t\t\tprint(\"Nombre: \",self.contactos[i]['nombre'])\n",
        "\t\t\t\tprint(\"Teléfono: \",self.contactos[i]['telf'])\n",
        "\t\t\t\tprint(\"E-mail: \",self.contactos[i]['email'])\n",
        "\t\t\t\treturn i\n",
        "\t\t\n",
        "\tdef editar(self):\n",
        "\t\tprint(\"---------------\")\n",
        "\t\tprint(\"Editar contacto\")\n",
        "\t\tprint(\"---------------\")\n",
        "\t\tdata=self.buscar()\n",
        "\t\tcondition=False\n",
        "\t\twhile condition==False:\n",
        "\t\t\tprint(\"Selecciona que quieres editar: \")\n",
        "\t\t\tprint(\"1. Nombre\")\n",
        "\t\t\tprint(\"2. Teléfono\")\n",
        "\t\t\tprint(\"3. E-mail\")\n",
        "\t\t\tprint(\"4. Volver\")\n",
        "\t\t\toption=int(input(\"Introduzca la opción deseada: \"))\n",
        "\t\t\tif option==1:\n",
        "\t\t\t\tnom=input(\"Introduzca el nuevo nombre: \")\n",
        "\t\t\t\tself.contactos[data]['nombre']=nom\n",
        "\t\t\telif option==2:\n",
        "\t\t\t\ttel=input(\"Introduzca el nuevo teléfono: \")\n",
        "\t\t\t\tself.contactos[data]['telf']=tel\n",
        "\t\t\telif option==3:\n",
        "\t\t\t\te_mail=input(\"Introduzca el nuevo email: \")\n",
        "\t\t\t\tself.contactos[data]['email']=e_mail\n",
        "\t\t\telif option==4:\n",
        "\t\t\t\tcondition=True\n",
        "\n",
        "agenda=Agenda()\n",
        "agenda.menu()"
      ],
      "metadata": {
        "id": "hvhudvVInHpR",
        "colab": {
          "base_uri": "https://localhost:8080/",
          "height": 658
        },
        "outputId": "25e9290d-f43e-4c43-d528-0b803d553361"
      },
      "execution_count": 2,
      "outputs": [
        {
          "output_type": "stream",
          "name": "stdout",
          "text": [
            "\n",
            "Agenda Personal\n",
            "1. Añadir Contacto\n",
            "2. Lista de contactos\n",
            "3. Buscar contacto\n",
            "4. Editar contacto\n",
            "5. Cerrar agenda\n"
          ]
        },
        {
          "output_type": "error",
          "ename": "KeyboardInterrupt",
          "evalue": "ignored",
          "traceback": [
            "\u001b[0;31m---------------------------------------------------------------------------\u001b[0m",
            "\u001b[0;31mKeyboardInterrupt\u001b[0m                         Traceback (most recent call last)",
            "\u001b[0;32m/usr/local/lib/python3.7/dist-packages/ipykernel/kernelbase.py\u001b[0m in \u001b[0;36m_input_request\u001b[0;34m(self, prompt, ident, parent, password)\u001b[0m\n\u001b[1;32m    728\u001b[0m             \u001b[0;32mtry\u001b[0m\u001b[0;34m:\u001b[0m\u001b[0;34m\u001b[0m\u001b[0;34m\u001b[0m\u001b[0m\n\u001b[0;32m--> 729\u001b[0;31m                 \u001b[0mident\u001b[0m\u001b[0;34m,\u001b[0m \u001b[0mreply\u001b[0m \u001b[0;34m=\u001b[0m \u001b[0mself\u001b[0m\u001b[0;34m.\u001b[0m\u001b[0msession\u001b[0m\u001b[0;34m.\u001b[0m\u001b[0mrecv\u001b[0m\u001b[0;34m(\u001b[0m\u001b[0mself\u001b[0m\u001b[0;34m.\u001b[0m\u001b[0mstdin_socket\u001b[0m\u001b[0;34m,\u001b[0m \u001b[0;36m0\u001b[0m\u001b[0;34m)\u001b[0m\u001b[0;34m\u001b[0m\u001b[0;34m\u001b[0m\u001b[0m\n\u001b[0m\u001b[1;32m    730\u001b[0m             \u001b[0;32mexcept\u001b[0m \u001b[0mException\u001b[0m\u001b[0;34m:\u001b[0m\u001b[0;34m\u001b[0m\u001b[0;34m\u001b[0m\u001b[0m\n",
            "\u001b[0;32m/usr/local/lib/python3.7/dist-packages/jupyter_client/session.py\u001b[0m in \u001b[0;36mrecv\u001b[0;34m(self, socket, mode, content, copy)\u001b[0m\n\u001b[1;32m    802\u001b[0m         \u001b[0;32mtry\u001b[0m\u001b[0;34m:\u001b[0m\u001b[0;34m\u001b[0m\u001b[0;34m\u001b[0m\u001b[0m\n\u001b[0;32m--> 803\u001b[0;31m             \u001b[0mmsg_list\u001b[0m \u001b[0;34m=\u001b[0m \u001b[0msocket\u001b[0m\u001b[0;34m.\u001b[0m\u001b[0mrecv_multipart\u001b[0m\u001b[0;34m(\u001b[0m\u001b[0mmode\u001b[0m\u001b[0;34m,\u001b[0m \u001b[0mcopy\u001b[0m\u001b[0;34m=\u001b[0m\u001b[0mcopy\u001b[0m\u001b[0;34m)\u001b[0m\u001b[0;34m\u001b[0m\u001b[0;34m\u001b[0m\u001b[0m\n\u001b[0m\u001b[1;32m    804\u001b[0m         \u001b[0;32mexcept\u001b[0m \u001b[0mzmq\u001b[0m\u001b[0;34m.\u001b[0m\u001b[0mZMQError\u001b[0m \u001b[0;32mas\u001b[0m \u001b[0me\u001b[0m\u001b[0;34m:\u001b[0m\u001b[0;34m\u001b[0m\u001b[0;34m\u001b[0m\u001b[0m\n",
            "\u001b[0;32m/usr/local/lib/python3.7/dist-packages/zmq/sugar/socket.py\u001b[0m in \u001b[0;36mrecv_multipart\u001b[0;34m(self, flags, copy, track)\u001b[0m\n\u001b[1;32m    624\u001b[0m         \"\"\"\n\u001b[0;32m--> 625\u001b[0;31m         \u001b[0mparts\u001b[0m \u001b[0;34m=\u001b[0m \u001b[0;34m[\u001b[0m\u001b[0mself\u001b[0m\u001b[0;34m.\u001b[0m\u001b[0mrecv\u001b[0m\u001b[0;34m(\u001b[0m\u001b[0mflags\u001b[0m\u001b[0;34m,\u001b[0m \u001b[0mcopy\u001b[0m\u001b[0;34m=\u001b[0m\u001b[0mcopy\u001b[0m\u001b[0;34m,\u001b[0m \u001b[0mtrack\u001b[0m\u001b[0;34m=\u001b[0m\u001b[0mtrack\u001b[0m\u001b[0;34m)\u001b[0m\u001b[0;34m]\u001b[0m\u001b[0;34m\u001b[0m\u001b[0;34m\u001b[0m\u001b[0m\n\u001b[0m\u001b[1;32m    626\u001b[0m         \u001b[0;31m# have first part already, only loop while more to receive\u001b[0m\u001b[0;34m\u001b[0m\u001b[0;34m\u001b[0m\u001b[0;34m\u001b[0m\u001b[0m\n",
            "\u001b[0;32mzmq/backend/cython/socket.pyx\u001b[0m in \u001b[0;36mzmq.backend.cython.socket.Socket.recv\u001b[0;34m()\u001b[0m\n",
            "\u001b[0;32mzmq/backend/cython/socket.pyx\u001b[0m in \u001b[0;36mzmq.backend.cython.socket.Socket.recv\u001b[0;34m()\u001b[0m\n",
            "\u001b[0;32mzmq/backend/cython/socket.pyx\u001b[0m in \u001b[0;36mzmq.backend.cython.socket._recv_copy\u001b[0;34m()\u001b[0m\n",
            "\u001b[0;32m/usr/local/lib/python3.7/dist-packages/zmq/backend/cython/checkrc.pxd\u001b[0m in \u001b[0;36mzmq.backend.cython.checkrc._check_rc\u001b[0;34m()\u001b[0m\n",
            "\u001b[0;31mKeyboardInterrupt\u001b[0m: ",
            "\nDuring handling of the above exception, another exception occurred:\n",
            "\u001b[0;31mKeyboardInterrupt\u001b[0m                         Traceback (most recent call last)",
            "\u001b[0;32m<ipython-input-2-75ee2b2ff088>\u001b[0m in \u001b[0;36m<module>\u001b[0;34m()\u001b[0m\n\u001b[1;32m     91\u001b[0m \u001b[0;34m\u001b[0m\u001b[0m\n\u001b[1;32m     92\u001b[0m \u001b[0magenda\u001b[0m\u001b[0;34m=\u001b[0m\u001b[0mAgenda\u001b[0m\u001b[0;34m(\u001b[0m\u001b[0;34m)\u001b[0m\u001b[0;34m\u001b[0m\u001b[0;34m\u001b[0m\u001b[0m\n\u001b[0;32m---> 93\u001b[0;31m \u001b[0magenda\u001b[0m\u001b[0;34m.\u001b[0m\u001b[0mmenu\u001b[0m\u001b[0;34m(\u001b[0m\u001b[0;34m)\u001b[0m\u001b[0;34m\u001b[0m\u001b[0;34m\u001b[0m\u001b[0m\n\u001b[0m",
            "\u001b[0;32m<ipython-input-2-75ee2b2ff088>\u001b[0m in \u001b[0;36mmenu\u001b[0;34m(self)\u001b[0m\n\u001b[1;32m     18\u001b[0m                         \u001b[0mprint\u001b[0m\u001b[0;34m(\u001b[0m\u001b[0mmenu\u001b[0m\u001b[0;34m[\u001b[0m\u001b[0mi\u001b[0m\u001b[0;34m]\u001b[0m\u001b[0;34m[\u001b[0m\u001b[0;36m0\u001b[0m\u001b[0;34m]\u001b[0m\u001b[0;34m)\u001b[0m\u001b[0;34m\u001b[0m\u001b[0;34m\u001b[0m\u001b[0m\n\u001b[1;32m     19\u001b[0m \u001b[0;34m\u001b[0m\u001b[0m\n\u001b[0;32m---> 20\u001b[0;31m                 \u001b[0mopcion\u001b[0m\u001b[0;34m=\u001b[0m\u001b[0mint\u001b[0m\u001b[0;34m(\u001b[0m\u001b[0minput\u001b[0m\u001b[0;34m(\u001b[0m\u001b[0;34m\"Seleccione la opción que desea efecutar: \"\u001b[0m\u001b[0;34m)\u001b[0m\u001b[0;34m)\u001b[0m\u001b[0;34m\u001b[0m\u001b[0;34m\u001b[0m\u001b[0m\n\u001b[0m\u001b[1;32m     21\u001b[0m                 \u001b[0;32mif\u001b[0m \u001b[0mopcion\u001b[0m\u001b[0;34m==\u001b[0m\u001b[0;36m1\u001b[0m\u001b[0;34m:\u001b[0m\u001b[0;34m\u001b[0m\u001b[0;34m\u001b[0m\u001b[0m\n\u001b[1;32m     22\u001b[0m                         \u001b[0mself\u001b[0m\u001b[0;34m.\u001b[0m\u001b[0manadir\u001b[0m\u001b[0;34m(\u001b[0m\u001b[0;34m)\u001b[0m\u001b[0;34m\u001b[0m\u001b[0;34m\u001b[0m\u001b[0m\n",
            "\u001b[0;32m/usr/local/lib/python3.7/dist-packages/ipykernel/kernelbase.py\u001b[0m in \u001b[0;36mraw_input\u001b[0;34m(self, prompt)\u001b[0m\n\u001b[1;32m    702\u001b[0m             \u001b[0mself\u001b[0m\u001b[0;34m.\u001b[0m\u001b[0m_parent_ident\u001b[0m\u001b[0;34m,\u001b[0m\u001b[0;34m\u001b[0m\u001b[0;34m\u001b[0m\u001b[0m\n\u001b[1;32m    703\u001b[0m             \u001b[0mself\u001b[0m\u001b[0;34m.\u001b[0m\u001b[0m_parent_header\u001b[0m\u001b[0;34m,\u001b[0m\u001b[0;34m\u001b[0m\u001b[0;34m\u001b[0m\u001b[0m\n\u001b[0;32m--> 704\u001b[0;31m             \u001b[0mpassword\u001b[0m\u001b[0;34m=\u001b[0m\u001b[0;32mFalse\u001b[0m\u001b[0;34m,\u001b[0m\u001b[0;34m\u001b[0m\u001b[0;34m\u001b[0m\u001b[0m\n\u001b[0m\u001b[1;32m    705\u001b[0m         )\n\u001b[1;32m    706\u001b[0m \u001b[0;34m\u001b[0m\u001b[0m\n",
            "\u001b[0;32m/usr/local/lib/python3.7/dist-packages/ipykernel/kernelbase.py\u001b[0m in \u001b[0;36m_input_request\u001b[0;34m(self, prompt, ident, parent, password)\u001b[0m\n\u001b[1;32m    732\u001b[0m             \u001b[0;32mexcept\u001b[0m \u001b[0mKeyboardInterrupt\u001b[0m\u001b[0;34m:\u001b[0m\u001b[0;34m\u001b[0m\u001b[0;34m\u001b[0m\u001b[0m\n\u001b[1;32m    733\u001b[0m                 \u001b[0;31m# re-raise KeyboardInterrupt, to truncate traceback\u001b[0m\u001b[0;34m\u001b[0m\u001b[0;34m\u001b[0m\u001b[0;34m\u001b[0m\u001b[0m\n\u001b[0;32m--> 734\u001b[0;31m                 \u001b[0;32mraise\u001b[0m \u001b[0mKeyboardInterrupt\u001b[0m\u001b[0;34m\u001b[0m\u001b[0;34m\u001b[0m\u001b[0m\n\u001b[0m\u001b[1;32m    735\u001b[0m             \u001b[0;32melse\u001b[0m\u001b[0;34m:\u001b[0m\u001b[0;34m\u001b[0m\u001b[0;34m\u001b[0m\u001b[0m\n\u001b[1;32m    736\u001b[0m                 \u001b[0;32mbreak\u001b[0m\u001b[0;34m\u001b[0m\u001b[0;34m\u001b[0m\u001b[0m\n",
            "\u001b[0;31mKeyboardInterrupt\u001b[0m: "
          ]
        }
      ]
    },
    {
      "cell_type": "markdown",
      "source": [
        "##Ejercicio 6\n",
        "En un banco tienen clientes que pueden hacer depósitos y extracciones de dinero. El banco requiere también al final del día calcular la cantidad de dinero que se ha depositado.\n",
        "\n",
        "Se deberán crear dos clases, la clase cliente y la clase banco. La clase cliente tendrá los atributos nombre y cantidad y los métodos __init__, depositar, extraer, mostrar_total.\n",
        "\n",
        "La clase banco tendrá como atributos 3 objetos de la clase cliente y los métodos __init__, operar y deposito_total."
      ],
      "metadata": {
        "id": "pIFlDlAnmyyh"
      }
    },
    {
      "cell_type": "code",
      "source": [
        "class Banco:\n",
        "\n",
        "\tdef __init__(self):\n",
        "\t\tself.c1=Cliente(\"Daniel\")\n",
        "\t\tself.c2=Cliente(\"Luis\")\n",
        "\t\tself.c3=Cliente(\"David\")\n",
        " \n",
        "\tdef operacion(self):\n",
        "\t\tself.c1.depositar(1500)\n",
        "\t\tself.c2.depositar(350)\n",
        "\t\tself.c3.depositar(470)\n",
        "\t\tself.c1.extraer(630)\n",
        " \n",
        "\tdef depositos(self):\n",
        "\t\ttotal=self.c1.devolver_cantidad()+self.c2.devolver_cantidad()+self.c3.devolver_cantidad()\n",
        "\t\tprint(\"El total de dinero del banco es: \",total)\n",
        "\t\tself.c1.imprimir()\n",
        "\t\tself.c2.imprimir()\n",
        "\t\tself.c3.imprimir()\n",
        " \n",
        "class Cliente:\n",
        "\tdef __init__(self,nombre):\n",
        "\t\tself.nombre=nombre\n",
        "\t\tself.cantidad=0\n",
        " \n",
        "\tdef depositar(self,cantidad):\n",
        "\t\tself.cantidad+=cantidad\n",
        " \n",
        "\tdef extraer(self,cantidad):\n",
        "\t\tself.cantidad-=cantidad\n",
        " \n",
        "\tdef devolver_cantidad(self):\n",
        "\t\treturn self.cantidad\n",
        " \n",
        "\tdef imprimir(self):\n",
        "\t\tprint(self.nombre, \" tiene depositada una cantidad de \",self.cantidad)\n",
        " \n",
        "banco=Banco()\n",
        "banco.operacion()\n",
        "banco.depositos()"
      ],
      "metadata": {
        "id": "7gjXBfvCnIQJ",
        "colab": {
          "base_uri": "https://localhost:8080/"
        },
        "outputId": "abc3bda6-58d5-4ccb-cc16-b6af6509c3cd"
      },
      "execution_count": 3,
      "outputs": [
        {
          "output_type": "stream",
          "name": "stdout",
          "text": [
            "El total de dinero del banco es:  1690\n",
            "Daniel  tiene depositada una cantidad de  870\n",
            "Luis  tiene depositada una cantidad de  350\n",
            "David  tiene depositada una cantidad de  470\n"
          ]
        }
      ]
    },
    {
      "cell_type": "markdown",
      "source": [
        "##Ejercicio 7\n",
        "Desarrollar un programa que conste de una clase padre Cuenta y dos subclases PlazoFijo y CajaAhorro. Definir los atributos titular y cantidad y un método para imprimir los datos en la clase Cuenta. La clase CajaAhorro tendrá un método para heredar los datos y uno para mostrar la información.\n",
        "\n",
        "La clase PlazoFijo tendrá dos atributos propios, plazo e interés. Tendrá un método para obtener el importe del interés (cantidad*interés/100) y otro método para mostrar la información, datos del titular plazo, interés y total de interés.\n",
        "\n",
        "Crear al menos un objeto de cada subclase.\n",
        "\n"
      ],
      "metadata": {
        "id": "B7ZTRLdum2NG"
      }
    },
    {
      "cell_type": "code",
      "source": [
        "class Cuenta:\n",
        "\n",
        "\tdef __init__(self,titular,cantidad):\n",
        "\t\tself.titular=titular\n",
        "\t\tself.cantidad=cantidad\n",
        " \n",
        "\tdef imprimir(self):\n",
        "\t\tprint(\"Titular de la cuenta: \",self.titular)\n",
        "\t\tprint(\"Cantidad: \", self.cantidad)\n",
        " \n",
        "class CajaAhorro(Cuenta):\n",
        "\tdef __init__(self,titular,cantidad):\n",
        "\t\tsuper().__init__(titular,cantidad)\n",
        " \n",
        "\tdef imprimir(self):\n",
        "\t\tprint(\"Cuenta en el banco (Caja de Ahorro)\")\n",
        "\t\tsuper().imprimir()\n",
        " \n",
        "class PlazoFijo(Cuenta):\n",
        "\tdef __init__(self,titular,cantidad,plazo,interes):\n",
        "\t\tsuper().__init__(titular,cantidad)\n",
        "\t\tself.plazo=plazo\n",
        "\t\tself.interes=interes\n",
        " \n",
        "\tdef ganancia(self):\n",
        "\t\tganancia=self.cantidad*self.interes/100\n",
        "\t\tprint(\"El interés generado es: \",ganancia)\n",
        " \n",
        "\tdef imprimir(self):\n",
        "\t\tprint(\"Cuenta detipo plazo fijo\")\n",
        "\t\tsuper().imprimir()\n",
        "\t\tprint(\"El plazo disponible en día es el siguiente: \",self.plazo)\n",
        "\t\tprint(\"Interés: \",self.interes)\n",
        "\t\tself.ganancia()\n",
        " \n",
        "caja1=CajaAhorro(\"Daniel\",28000)\n",
        "caja1.imprimir()\n",
        " \n",
        "plazo1=PlazoFijo(\"Carla\",5000,365,1.9)\n",
        "plazo1.imprimir()"
      ],
      "metadata": {
        "id": "F2wvhFNYnI2Z",
        "colab": {
          "base_uri": "https://localhost:8080/"
        },
        "outputId": "59b96288-e82e-4e41-97e9-ef32098abf10"
      },
      "execution_count": 4,
      "outputs": [
        {
          "output_type": "stream",
          "name": "stdout",
          "text": [
            "Cuenta en el banco (Caja de Ahorro)\n",
            "Titular de la cuenta:  Daniel\n",
            "Cantidad:  28000\n",
            "Cuenta detipo plazo fijo\n",
            "Titular de la cuenta:  Carla\n",
            "Cantidad:  5000\n",
            "El plazo disponible en día es el siguiente:  365\n",
            "Interés:  1.9\n",
            "El interés generado es:  95.0\n"
          ]
        }
      ]
    }
  ]
}